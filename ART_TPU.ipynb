{
  "nbformat": 4,
  "nbformat_minor": 0,
  "metadata": {
    "colab": {
      "name": "ART TPU.ipynb",
      "provenance": [],
      "collapsed_sections": []
    },
    "kernelspec": {
      "name": "python3",
      "display_name": "Python 3"
    },
    "language_info": {
      "name": "python"
    }
  },
  "cells": [
    {
      "cell_type": "code",
      "execution_count": null,
      "metadata": {
        "id": "yjkFzVOaEKwV"
      },
      "outputs": [],
      "source": [
        "import tensorflow as tf\n",
        "import pandas as pd\n",
        "import matplotlib.pyplot as plt\n",
        "import os"
      ]
    },
    {
      "cell_type": "code",
      "source": [
        "try: # detect TPUs\n",
        "    tpu = tf.distribute.cluster_resolver.TPUClusterResolver.connect() # TPU detection\n",
        "    strategy = tf.distribute.TPUStrategy(tpu)\n",
        "except ValueError: # detect GPUs\n",
        "    strategy = tf.distribute.MirroredStrategy() # for GPU or multi-GPU machines\n",
        "    #strategy = tf.distribute.get_strategy() # default strategy that works on CPU and single GPU\n",
        "    #strategy = tf.distribute.experimental.MultiWorkerMirroredStrategy() # for clusters of multi-GPU machines\n",
        "\n",
        "print(\"Number of accelerators: \", strategy.num_replicas_in_sync)"
      ],
      "metadata": {
        "colab": {
          "base_uri": "https://localhost:8080/"
        },
        "id": "5RzZPGlbj2Nr",
        "outputId": "9954cb3e-73b4-4413-d6eb-969f97f95a4f"
      },
      "execution_count": null,
      "outputs": [
        {
          "output_type": "stream",
          "name": "stdout",
          "text": [
            "INFO:tensorflow:Deallocate tpu buffers before initializing tpu system.\n"
          ]
        },
        {
          "output_type": "stream",
          "name": "stderr",
          "text": [
            "INFO:tensorflow:Deallocate tpu buffers before initializing tpu system.\n"
          ]
        },
        {
          "output_type": "stream",
          "name": "stdout",
          "text": [
            "WARNING:tensorflow:TPU system grpc://10.123.105.42:8470 has already been initialized. Reinitializing the TPU can cause previously created variables on TPU to be lost.\n"
          ]
        },
        {
          "output_type": "stream",
          "name": "stderr",
          "text": [
            "WARNING:tensorflow:TPU system grpc://10.123.105.42:8470 has already been initialized. Reinitializing the TPU can cause previously created variables on TPU to be lost.\n"
          ]
        },
        {
          "output_type": "stream",
          "name": "stdout",
          "text": [
            "INFO:tensorflow:Initializing the TPU system: grpc://10.123.105.42:8470\n"
          ]
        },
        {
          "output_type": "stream",
          "name": "stderr",
          "text": [
            "INFO:tensorflow:Initializing the TPU system: grpc://10.123.105.42:8470\n"
          ]
        },
        {
          "output_type": "stream",
          "name": "stdout",
          "text": [
            "INFO:tensorflow:Finished initializing TPU system.\n"
          ]
        },
        {
          "output_type": "stream",
          "name": "stderr",
          "text": [
            "INFO:tensorflow:Finished initializing TPU system.\n"
          ]
        },
        {
          "output_type": "stream",
          "name": "stdout",
          "text": [
            "INFO:tensorflow:Found TPU system:\n"
          ]
        },
        {
          "output_type": "stream",
          "name": "stderr",
          "text": [
            "INFO:tensorflow:Found TPU system:\n"
          ]
        },
        {
          "output_type": "stream",
          "name": "stdout",
          "text": [
            "INFO:tensorflow:*** Num TPU Cores: 8\n"
          ]
        },
        {
          "output_type": "stream",
          "name": "stderr",
          "text": [
            "INFO:tensorflow:*** Num TPU Cores: 8\n"
          ]
        },
        {
          "output_type": "stream",
          "name": "stdout",
          "text": [
            "INFO:tensorflow:*** Num TPU Workers: 1\n"
          ]
        },
        {
          "output_type": "stream",
          "name": "stderr",
          "text": [
            "INFO:tensorflow:*** Num TPU Workers: 1\n"
          ]
        },
        {
          "output_type": "stream",
          "name": "stdout",
          "text": [
            "INFO:tensorflow:*** Num TPU Cores Per Worker: 8\n"
          ]
        },
        {
          "output_type": "stream",
          "name": "stderr",
          "text": [
            "INFO:tensorflow:*** Num TPU Cores Per Worker: 8\n"
          ]
        },
        {
          "output_type": "stream",
          "name": "stdout",
          "text": [
            "INFO:tensorflow:*** Available Device: _DeviceAttributes(/job:localhost/replica:0/task:0/device:CPU:0, CPU, 0, 0)\n"
          ]
        },
        {
          "output_type": "stream",
          "name": "stderr",
          "text": [
            "INFO:tensorflow:*** Available Device: _DeviceAttributes(/job:localhost/replica:0/task:0/device:CPU:0, CPU, 0, 0)\n"
          ]
        },
        {
          "output_type": "stream",
          "name": "stdout",
          "text": [
            "INFO:tensorflow:*** Available Device: _DeviceAttributes(/job:worker/replica:0/task:0/device:CPU:0, CPU, 0, 0)\n"
          ]
        },
        {
          "output_type": "stream",
          "name": "stderr",
          "text": [
            "INFO:tensorflow:*** Available Device: _DeviceAttributes(/job:worker/replica:0/task:0/device:CPU:0, CPU, 0, 0)\n"
          ]
        },
        {
          "output_type": "stream",
          "name": "stdout",
          "text": [
            "INFO:tensorflow:*** Available Device: _DeviceAttributes(/job:worker/replica:0/task:0/device:TPU:0, TPU, 0, 0)\n"
          ]
        },
        {
          "output_type": "stream",
          "name": "stderr",
          "text": [
            "INFO:tensorflow:*** Available Device: _DeviceAttributes(/job:worker/replica:0/task:0/device:TPU:0, TPU, 0, 0)\n"
          ]
        },
        {
          "output_type": "stream",
          "name": "stdout",
          "text": [
            "INFO:tensorflow:*** Available Device: _DeviceAttributes(/job:worker/replica:0/task:0/device:TPU:1, TPU, 0, 0)\n"
          ]
        },
        {
          "output_type": "stream",
          "name": "stderr",
          "text": [
            "INFO:tensorflow:*** Available Device: _DeviceAttributes(/job:worker/replica:0/task:0/device:TPU:1, TPU, 0, 0)\n"
          ]
        },
        {
          "output_type": "stream",
          "name": "stdout",
          "text": [
            "INFO:tensorflow:*** Available Device: _DeviceAttributes(/job:worker/replica:0/task:0/device:TPU:2, TPU, 0, 0)\n"
          ]
        },
        {
          "output_type": "stream",
          "name": "stderr",
          "text": [
            "INFO:tensorflow:*** Available Device: _DeviceAttributes(/job:worker/replica:0/task:0/device:TPU:2, TPU, 0, 0)\n"
          ]
        },
        {
          "output_type": "stream",
          "name": "stdout",
          "text": [
            "INFO:tensorflow:*** Available Device: _DeviceAttributes(/job:worker/replica:0/task:0/device:TPU:3, TPU, 0, 0)\n"
          ]
        },
        {
          "output_type": "stream",
          "name": "stderr",
          "text": [
            "INFO:tensorflow:*** Available Device: _DeviceAttributes(/job:worker/replica:0/task:0/device:TPU:3, TPU, 0, 0)\n"
          ]
        },
        {
          "output_type": "stream",
          "name": "stdout",
          "text": [
            "INFO:tensorflow:*** Available Device: _DeviceAttributes(/job:worker/replica:0/task:0/device:TPU:4, TPU, 0, 0)\n"
          ]
        },
        {
          "output_type": "stream",
          "name": "stderr",
          "text": [
            "INFO:tensorflow:*** Available Device: _DeviceAttributes(/job:worker/replica:0/task:0/device:TPU:4, TPU, 0, 0)\n"
          ]
        },
        {
          "output_type": "stream",
          "name": "stdout",
          "text": [
            "INFO:tensorflow:*** Available Device: _DeviceAttributes(/job:worker/replica:0/task:0/device:TPU:5, TPU, 0, 0)\n"
          ]
        },
        {
          "output_type": "stream",
          "name": "stderr",
          "text": [
            "INFO:tensorflow:*** Available Device: _DeviceAttributes(/job:worker/replica:0/task:0/device:TPU:5, TPU, 0, 0)\n"
          ]
        },
        {
          "output_type": "stream",
          "name": "stdout",
          "text": [
            "INFO:tensorflow:*** Available Device: _DeviceAttributes(/job:worker/replica:0/task:0/device:TPU:6, TPU, 0, 0)\n"
          ]
        },
        {
          "output_type": "stream",
          "name": "stderr",
          "text": [
            "INFO:tensorflow:*** Available Device: _DeviceAttributes(/job:worker/replica:0/task:0/device:TPU:6, TPU, 0, 0)\n"
          ]
        },
        {
          "output_type": "stream",
          "name": "stdout",
          "text": [
            "INFO:tensorflow:*** Available Device: _DeviceAttributes(/job:worker/replica:0/task:0/device:TPU:7, TPU, 0, 0)\n"
          ]
        },
        {
          "output_type": "stream",
          "name": "stderr",
          "text": [
            "INFO:tensorflow:*** Available Device: _DeviceAttributes(/job:worker/replica:0/task:0/device:TPU:7, TPU, 0, 0)\n"
          ]
        },
        {
          "output_type": "stream",
          "name": "stdout",
          "text": [
            "INFO:tensorflow:*** Available Device: _DeviceAttributes(/job:worker/replica:0/task:0/device:TPU_SYSTEM:0, TPU_SYSTEM, 0, 0)\n"
          ]
        },
        {
          "output_type": "stream",
          "name": "stderr",
          "text": [
            "INFO:tensorflow:*** Available Device: _DeviceAttributes(/job:worker/replica:0/task:0/device:TPU_SYSTEM:0, TPU_SYSTEM, 0, 0)\n"
          ]
        },
        {
          "output_type": "stream",
          "name": "stdout",
          "text": [
            "INFO:tensorflow:*** Available Device: _DeviceAttributes(/job:worker/replica:0/task:0/device:XLA_CPU:0, XLA_CPU, 0, 0)\n"
          ]
        },
        {
          "output_type": "stream",
          "name": "stderr",
          "text": [
            "INFO:tensorflow:*** Available Device: _DeviceAttributes(/job:worker/replica:0/task:0/device:XLA_CPU:0, XLA_CPU, 0, 0)\n"
          ]
        },
        {
          "output_type": "stream",
          "name": "stdout",
          "text": [
            "Number of accelerators:  8\n"
          ]
        }
      ]
    },
    {
      "cell_type": "code",
      "source": [
        " TEST_URL = 'gs://kds-c9419c2c09a89876d011bc2dbce1997df332b76213148a8faa8297b5/test2.tfrecord'\n",
        " TRAIN_URL = 'gs://kds-c9419c2c09a89876d011bc2dbce1997df332b76213148a8faa8297b5/train2.tfrecord'"
      ],
      "metadata": {
        "id": "FiK-FhzOFyUY"
      },
      "execution_count": null,
      "outputs": []
    },
    {
      "cell_type": "code",
      "source": [
        "train = tf.data.TFRecordDataset(TRAIN_URL, num_parallel_reads=tf.data.AUTOTUNE)\n",
        "test = tf.data.TFRecordDataset(TEST_URL, num_parallel_reads=tf.data.AUTOTUNE)"
      ],
      "metadata": {
        "id": "GVhPwO9mF3Vg"
      },
      "execution_count": null,
      "outputs": []
    },
    {
      "cell_type": "code",
      "source": [
        "def parse_tfrecord_fn(example, N_CLASSES=21):\n",
        "    feature_description = {\n",
        "        \"image\": tf.io.FixedLenFeature([], tf.string),\n",
        "        \"path\": tf.io.FixedLenFeature([], tf.string),\n",
        "        \"label\": tf.io.FixedLenFeature([], tf.int64),\n",
        "\n",
        "    }\n",
        "    example = tf.io.parse_single_example(example, feature_description)\n",
        "    decoded = tf.io.decode_jpeg(example[\"image\"], channels=3)\n",
        "    image = tf.image.resize_with_crop_or_pad(decoded, 600, 600)#, preserve_aspect_ratio=True)\n",
        "    image = tf.keras.preprocessing.image.smart_resize(decoded, (600,600))\n",
        "    example[\"label\"] = tf.one_hot(example[\"label\"], N_CLASSES)\n",
        "\n",
        "    return image, example['label']"
      ],
      "metadata": {
        "id": "tXMDxIFiGTua"
      },
      "execution_count": null,
      "outputs": []
    },
    {
      "cell_type": "code",
      "source": [
        "trainRW = train.map(parse_tfrecord_fn, num_parallel_calls=tf.data.AUTOTUNE)\n",
        "testRW = test.map(parse_tfrecord_fn, num_parallel_calls=tf.data.AUTOTUNE)"
      ],
      "metadata": {
        "id": "Bb_hzDNTGK9C"
      },
      "execution_count": null,
      "outputs": []
    },
    {
      "cell_type": "code",
      "source": [
        "for i in trainRW:\n",
        "    print(i)#[0])\n",
        "    plt.imshow(tf.divide(i[0], 255.))\n",
        "    N_GENRES = i[1].numpy().shape[0]\n",
        "    break"
      ],
      "metadata": {
        "colab": {
          "base_uri": "https://localhost:8080/",
          "height": 1000
        },
        "id": "qxiPAPG8GCLb",
        "outputId": "9d08e9d4-32c4-431e-9a7a-cfc65cc554fe"
      },
      "execution_count": null,
      "outputs": [
        {
          "output_type": "stream",
          "name": "stdout",
          "text": [
            "(<tf.Tensor: shape=(600, 600, 3), dtype=float32, numpy=\n",
            "array([[[161.41049 , 161.41049 ,  99.410484],\n",
            "        [171.8998  , 171.8998  , 109.8998  ],\n",
            "        [196.80305 , 196.80305 , 134.80305 ],\n",
            "        ...,\n",
            "        [208.1609  , 211.54012 , 163.40248 ],\n",
            "        [204.1551  , 207.1551  , 160.1551  ],\n",
            "        [198.02997 , 201.02997 , 154.02997 ]],\n",
            "\n",
            "       [[193.38454 , 193.61205 , 132.06705 ],\n",
            "        [188.88219 , 189.1097  , 127.56469 ],\n",
            "        [207.23091 , 207.45842 , 145.91342 ],\n",
            "        ...,\n",
            "        [198.25925 , 201.55219 , 153.67337 ],\n",
            "        [193.45113 , 196.45113 , 149.45113 ],\n",
            "        [193.15894 , 196.15894 , 149.15894 ]],\n",
            "\n",
            "       [[204.93413 , 205.93413 , 145.93413 ],\n",
            "        [206.9413  , 207.9413  , 147.9413  ],\n",
            "        [200.33208 , 201.33208 , 141.33208 ],\n",
            "        ...,\n",
            "        [199.57457 , 202.57457 , 155.57457 ],\n",
            "        [196.52946 , 199.52946 , 152.52946 ],\n",
            "        [191.27724 , 194.27724 , 147.27724 ]],\n",
            "\n",
            "       ...,\n",
            "\n",
            "       [[141.97476 , 143.21634 , 119.21634 ],\n",
            "        [142.88295 , 144.03825 , 120.297066],\n",
            "        [136.89302 , 137.75539 , 115.50757 ],\n",
            "        ...,\n",
            "        [190.86523 , 193.62366 , 155.38208 ],\n",
            "        [188.84094 , 191.59937 , 153.35779 ],\n",
            "        [179.11069 , 181.86911 , 143.62753 ]],\n",
            "\n",
            "       [[145.61003 , 149.15495 , 125.81026 ],\n",
            "        [143.6284  , 147.17332 , 122.40086 ],\n",
            "        [131.25638 , 134.8013  , 110.20139 ],\n",
            "        ...,\n",
            "        [200.15086 , 202.15086 , 162.85794 ],\n",
            "        [203.42093 , 205.42093 , 166.42093 ],\n",
            "        [186.99995 , 188.99995 , 149.99995 ]],\n",
            "\n",
            "       [[138.38512 , 142.38512 , 119.23345 ],\n",
            "        [134.39784 , 138.39784 , 113.39785 ],\n",
            "        [119.1799  , 123.1799  ,  98.1799  ],\n",
            "        ...,\n",
            "        [207.77583 , 209.77583 , 170.39662 ],\n",
            "        [212.54802 , 214.54802 , 175.54802 ],\n",
            "        [189.63454 , 191.63454 , 152.63454 ]]], dtype=float32)>, <tf.Tensor: shape=(21,), dtype=float32, numpy=\n",
            "array([0., 0., 0., 0., 0., 0., 0., 1., 0., 0., 0., 0., 0., 0., 0., 0., 0.,\n",
            "       0., 0., 0., 0.], dtype=float32)>)\n"
          ]
        },
        {
          "output_type": "display_data",
          "data": {
            "image/png": "[encoded data removed]",
            "text/plain": [
              "<Figure size 432x288 with 1 Axes>"
            ]
          },
          "metadata": {
            "needs_background": "light"
          }
        }
      ]
    },
    {
      "cell_type": "code",
      "source": [
        "N_GENRES"
      ],
      "metadata": {
        "colab": {
          "base_uri": "https://localhost:8080/"
        },
        "id": "Vz7hOY3NOH6K",
        "outputId": "1d9c9c98-4447-4510-a2c9-a10751006df3"
      },
      "execution_count": null,
      "outputs": [
        {
          "output_type": "execute_result",
          "data": {
            "text/plain": [
              "21"
            ]
          },
          "metadata": {},
          "execution_count": 39
        }
      ]
    },
    {
      "cell_type": "code",
      "source": [
        "# def connect_to_tpu(tpu_address: str = None):\n",
        "#     if tpu_address is not None:  # When using GCP\n",
        "#         cluster_resolver = tf.distribute.cluster_resolver.TPUClusterResolver(\n",
        "#             tpu=tpu_address)\n",
        "#         if tpu_address not in (\"\", \"local\"):\n",
        "#             tf.config.experimental_connect_to_cluster(cluster_resolver)\n",
        "#         tf.tpu.experimental.initialize_tpu_system(cluster_resolver)\n",
        "#         strategy = tf.distribute.experimental.TPUStrategy(cluster_resolver)\n",
        "#         print(\"Running on TPU \", cluster_resolver.master())\n",
        "#         print(\"REPLICAS: \", strategy.num_replicas_in_sync)\n",
        "#         return cluster_resolver, strategy\n",
        "#     else:                           # When using Colab or Kaggle\n",
        "#         try:\n",
        "#             cluster_resolver = tf.distribute.cluster_resolver.TPUClusterResolver.connect()\n",
        "#             strategy = tf.distribute.experimental.TPUStrategy(cluster_resolver)\n",
        "#             print(\"Running on TPU \", cluster_resolver.master())\n",
        "#             print(\"REPLICAS: \", strategy.num_replicas_in_sync)\n",
        "#             return cluster_resolver, strategy\n",
        "#         except:\n",
        "#             print(\"WARNING: No TPU detected.\")\n",
        "#             mirrored_strategy = tf.distribute.MirroredStrategy()\n",
        "#             return None, mirrored_strategy\n",
        "\n",
        "# connect_to_tpu()"
      ],
      "metadata": {
        "id": "tDF7v4yjKDXF"
      },
      "execution_count": null,
      "outputs": []
    },
    {
      "cell_type": "code",
      "source": [
        "lenTrain = sum(1 for _ in trainRW)\n",
        "lenTest = sum(1 for _ in testRW)"
      ],
      "metadata": {
        "id": "gKrHivWaMhcc"
      },
      "execution_count": null,
      "outputs": []
    },
    {
      "cell_type": "code",
      "source": [
        "BATCH_SIZE = 64 * strategy.num_replicas_in_sync\n",
        "TRAIN_STEPS = tf.math.ceil(lenTrain / BATCH_SIZE)\n",
        "TEST_STEPS = tf.math.ceil(lenTest / BATCH_SIZE)"
      ],
      "metadata": {
        "id": "rg_hatpeH_3g"
      },
      "execution_count": null,
      "outputs": []
    },
    {
      "cell_type": "code",
      "source": [
        "# from google.colab import auth \n",
        "# auth.authenticate_user()"
      ],
      "metadata": {
        "id": "ImekGJNKJ2ti"
      },
      "execution_count": null,
      "outputs": []
    },
    {
      "cell_type": "code",
      "source": [
        "# trainRW.take(10)"
      ],
      "metadata": {
        "id": "4FA99sAEK2W6"
      },
      "execution_count": null,
      "outputs": []
    },
    {
      "cell_type": "code",
      "source": [
        "# .cache() and .shard() done automatically on TPU\n",
        "t = trainRW.repeat().shuffle(BATCH_SIZE).batch(BATCH_SIZE).prefetch(tf.data.AUTOTUNE)\n",
        "te = testRW.repeat().shuffle(BATCH_SIZE).batch(BATCH_SIZE).prefetch(tf.data.AUTOTUNE)"
      ],
      "metadata": {
        "id": "jlfbn7IfXvcZ"
      },
      "execution_count": null,
      "outputs": []
    },
    {
      "cell_type": "code",
      "source": [
        ""
      ],
      "metadata": {
        "id": "emrV_gAlJrD0"
      },
      "execution_count": null,
      "outputs": []
    },
    {
      "cell_type": "code",
      "source": [
        "#post done with 64 batch size - 32 worked also\n",
        "\n",
        "# train .interleave(random augment func) .cache() ...\n",
        "with strategy.scope():\n",
        "  model = tf.keras.Sequential()\n",
        "  model.add(tf.keras.layers.Input(shape=(600,600,3)))\n",
        "  model.add(tf.keras.layers.Rescaling(1/255.))\n",
        "  model.add(tf.keras.layers.Conv2D(32, kernel_size=3, activation='relu'))\n",
        "  model.add(tf.keras.layers.Conv2D(32, kernel_size=3, activation='relu'))\n",
        "  model.add(tf.keras.layers.GlobalMaxPool2D())\n",
        "  model.add(tf.keras.layers.Dense(21, activation='softmax'))\n",
        "\n",
        "  model.compile(optimizer='Adam', loss='categorical_crossentropy', metrics='accuracy')\n",
        "\n",
        "  model.fit(t, steps_per_epoch=TRAIN_STEPS, validation_data=te, validation_steps=TEST_STEPS, epochs=10)"
      ],
      "metadata": {
        "colab": {
          "base_uri": "https://localhost:8080/"
        },
        "id": "QSsMnRUTJq8C",
        "outputId": "8017816d-c141-4440-f2ae-9e11d201cc66"
      },
      "execution_count": null,
      "outputs": [
        {
          "output_type": "stream",
          "name": "stdout",
          "text": [
            "Epoch 1/10\n",
            "13/13 [==============================] - 43s 3s/step - loss: 2.9537 - accuracy: 0.0729 - val_loss: 2.8535 - val_accuracy: 0.2046\n",
            "Epoch 2/10\n",
            "13/13 [==============================] - 34s 3s/step - loss: 2.8081 - accuracy: 0.2013 - val_loss: 2.7534 - val_accuracy: 0.2061\n",
            "Epoch 3/10\n",
            "13/13 [==============================] - 30s 2s/step - loss: 2.7249 - accuracy: 0.2031 - val_loss: 2.6826 - val_accuracy: 0.2041\n",
            "Epoch 4/10\n",
            "13/13 [==============================] - 34s 3s/step - loss: 2.6861 - accuracy: 0.2036 - val_loss: 2.6553 - val_accuracy: 0.2036\n",
            "Epoch 5/10\n",
            "13/13 [==============================] - 31s 2s/step - loss: 2.6623 - accuracy: 0.2031 - val_loss: 2.6567 - val_accuracy: 0.1992\n",
            "Epoch 6/10\n",
            "13/13 [==============================] - 32s 3s/step - loss: 2.6538 - accuracy: 0.2054 - val_loss: 2.6367 - val_accuracy: 0.2041\n",
            "Epoch 7/10\n",
            "13/13 [==============================] - 31s 2s/step - loss: 2.6388 - accuracy: 0.2087 - val_loss: 2.6191 - val_accuracy: 0.2056\n",
            "Epoch 8/10\n",
            "13/13 [==============================] - 30s 2s/step - loss: 2.6289 - accuracy: 0.2112 - val_loss: 2.6123 - val_accuracy: 0.2075\n",
            "Epoch 9/10\n",
            "13/13 [==============================] - 33s 3s/step - loss: 2.6178 - accuracy: 0.2153 - val_loss: 2.5981 - val_accuracy: 0.2158\n",
            "Epoch 10/10\n",
            "13/13 [==============================] - 32s 3s/step - loss: 2.6103 - accuracy: 0.2151 - val_loss: 2.5767 - val_accuracy: 0.2397\n"
          ]
        }
      ]
    },
    {
      "cell_type": "code",
      "source": [
        ""
      ],
      "metadata": {
        "id": "URqQj7P8OVnv"
      },
      "execution_count": null,
      "outputs": []
    },
    {
      "cell_type": "code",
      "source": [
        ""
      ],
      "metadata": {
        "id": "6CrPMvNvJqgH"
      },
      "execution_count": null,
      "outputs": []
    },
    {
      "cell_type": "code",
      "source": [
        "\n",
        "# train .interleave(random augment func) .cache() ...\n",
        "with strategy.scope():\n",
        "  model = tf.keras.Sequential()\n",
        "  model.add(tf.keras.layers.Input(shape=(600,600,3)))\n",
        "  model.add(tf.keras.layers.Rescaling(1/255.))\n",
        "  model.add(tf.keras.layers.Conv2D(32, kernel_size=3, activation='relu'))\n",
        "  model.add(tf.keras.layers.Conv2D(32, kernel_size=3, activation='relu'))\n",
        "  model.add(tf.keras.layers.GlobalMaxPool2D())\n",
        "  model.add(tf.keras.layers.Dense(21, activation='softmax'))\n",
        "\n",
        "  model.compile(optimizer='Adam', loss='categorical_crossentropy', metrics='accuracy')\n",
        "\n",
        "  model.fit(t, steps_per_epoch=TRAIN_STEPS, validation_data=te, validation_steps=TEST_STEPS, epochs=10)"
      ],
      "metadata": {
        "colab": {
          "base_uri": "https://localhost:8080/"
        },
        "id": "yGCzeQLcGIJ3",
        "outputId": "d99573cc-6465-4d48-8d97-4db65815724e"
      },
      "execution_count": null,
      "outputs": [
        {
          "output_type": "stream",
          "name": "stdout",
          "text": [
            "Epoch 1/10\n",
            "WARNING:tensorflow:From /usr/local/lib/python3.7/dist-packages/keras/engine/training.py:2970: StrategyBase.unwrap (from tensorflow.python.distribute.distribute_lib) is deprecated and will be removed in a future version.\n",
            "Instructions for updating:\n",
            "use `experimental_local_results` instead.\n"
          ]
        },
        {
          "output_type": "stream",
          "name": "stderr",
          "text": [
            "WARNING:tensorflow:From /usr/local/lib/python3.7/dist-packages/keras/engine/training.py:2970: StrategyBase.unwrap (from tensorflow.python.distribute.distribute_lib) is deprecated and will be removed in a future version.\n",
            "Instructions for updating:\n",
            "use `experimental_local_results` instead.\n"
          ]
        },
        {
          "output_type": "stream",
          "name": "stdout",
          "text": [
            "102/102 [==============================] - 58s 387ms/step - loss: 2.7167 - accuracy: 0.1955 - val_loss: 2.6466 - val_accuracy: 0.2031\n",
            "Epoch 2/10\n",
            "102/102 [==============================] - 31s 302ms/step - loss: 2.6290 - accuracy: 0.2056 - val_loss: 2.5998 - val_accuracy: 0.2013\n",
            "Epoch 3/10\n",
            "102/102 [==============================] - 31s 307ms/step - loss: 2.5647 - accuracy: 0.2201 - val_loss: 2.5394 - val_accuracy: 0.2362\n",
            "Epoch 4/10\n",
            "102/102 [==============================] - 31s 305ms/step - loss: 2.4957 - accuracy: 0.2489 - val_loss: 2.4798 - val_accuracy: 0.2572\n",
            "Epoch 5/10\n",
            "102/102 [==============================] - 32s 319ms/step - loss: 2.4299 - accuracy: 0.2578 - val_loss: 2.4260 - val_accuracy: 0.2530\n",
            "Epoch 6/10\n",
            "102/102 [==============================] - 31s 306ms/step - loss: 2.3766 - accuracy: 0.2661 - val_loss: 2.3771 - val_accuracy: 0.2638\n",
            "Epoch 7/10\n",
            "102/102 [==============================] - 32s 310ms/step - loss: 2.3333 - accuracy: 0.2759 - val_loss: 2.3404 - val_accuracy: 0.2668\n",
            "Epoch 8/10\n",
            "102/102 [==============================] - 31s 309ms/step - loss: 2.2972 - accuracy: 0.2834 - val_loss: 2.3121 - val_accuracy: 0.2704\n",
            "Epoch 9/10\n",
            "102/102 [==============================] - 37s 360ms/step - loss: 2.2691 - accuracy: 0.2923 - val_loss: 2.2848 - val_accuracy: 0.2819\n",
            "Epoch 10/10\n",
            "102/102 [==============================] - 31s 309ms/step - loss: 2.2439 - accuracy: 0.2949 - val_loss: 2.2642 - val_accuracy: 0.2939\n"
          ]
        }
      ]
    },
    {
      "cell_type": "code",
      "source": [
        "from tensorflow.keras.applications import EfficientNetB7"
      ],
      "metadata": {
        "id": "lhjAQ338OdSp"
      },
      "execution_count": null,
      "outputs": []
    },
    {
      "cell_type": "code",
      "source": [
        "# With mixed precision, batch_size*=2\n",
        "policy = tf.keras.mixed_precision.Policy('mixed_bfloat16')\n",
        "tf.keras.mixed_precision.set_global_policy(policy)"
      ],
      "metadata": {
        "id": "u00PWAqaOb6u"
      },
      "execution_count": null,
      "outputs": []
    },
    {
      "cell_type": "code",
      "source": [
        "# Setup checkpoint path\n",
        "checkpoint_path = \"/content/mdl0/\" # note: remember saving directly to Colab is temporary\n",
        "\n",
        "# for TPU, must save locally\n",
        "save_locally = tf.saved_model.SaveOptions(experimental_io_device='/job:localhost')\n",
        "\n",
        "# Create a ModelCheckpoint callback that saves the model's weights only\n",
        "checkpoint_callback = tf.keras.callbacks.ModelCheckpoint(filepath=checkpoint_path,\n",
        "                                                         save_weights_only=True, # set to False to save the entire model\n",
        "                                                         save_best_only=False, # set to True to save only the best model instead of a model every epoch \n",
        "                                                         save_freq=\"epoch\", # save every epoch\n",
        "                                                         options=tf.train.CheckpointOptions(experimental_io_device='/job:localhost'),\n",
        "                                                         verbose=1)"
      ],
      "metadata": {
        "id": "pF66BkADLXos"
      },
      "execution_count": null,
      "outputs": []
    },
    {
      "cell_type": "code",
      "source": [
        "EFF_SHAPE = (600, 600, 3)"
      ],
      "metadata": {
        "id": "TE6kGYBFOv3m"
      },
      "execution_count": null,
      "outputs": []
    },
    {
      "cell_type": "code",
      "source": [
        "# def modelgen(N_GENRES=N_GENRES, diagnostic=False):\n",
        "#   model = EfficientNetB7(\n",
        "#     include_top=False, weights='imagenet',\n",
        "#     # input_shape=None,\n",
        "#     pooling='max',\n",
        "#     )\n",
        "  \n",
        "#   inputs = tf.keras.layers.Input(shape=EFF_SHAPE)\n",
        "#   x = model(inputs, training=False)\n",
        "#   outputs = tf.keras.layers.Dense(N_GENRES, activation='softmax')(x)\n",
        "\n",
        "#   mlc = tf.keras.Model(inputs=inputs, outputs=outputs) \n",
        "  \n",
        "#   if diagnostic==True:\n",
        "#     return mlc, model\n",
        "#   else:\n",
        "#     return mlc\n",
        "\n",
        "\n",
        "# with strategy.scope(): # creating the model in the TPUStrategy scope means we will train the model on the TPU\n",
        "#   mlc = modelgen()\n",
        "#   mlc.compile(optimizer='Adam',\n",
        "#               loss=tf.keras.losses.CategoricalCrossentropy(from_logits=False, label_smoothing=.1), \n",
        "#               metrics='accuracy')\n",
        "\n",
        "\n",
        "# mlc.summary()"
      ],
      "metadata": {
        "id": "aUesLV2hNzrB"
      },
      "execution_count": null,
      "outputs": []
    },
    {
      "cell_type": "code",
      "source": [
        "!pip install efficientnet\n",
        "import efficientnet.tfkeras as efn "
      ],
      "metadata": {
        "colab": {
          "base_uri": "https://localhost:8080/"
        },
        "id": "JbCIN9fSS8AL",
        "outputId": "c02885c7-d923-43af-da04-a8b003fa4d33"
      },
      "execution_count": null,
      "outputs": [
        {
          "output_type": "stream",
          "name": "stdout",
          "text": [
            "Requirement already satisfied: efficientnet in /usr/local/lib/python3.7/dist-packages (1.1.1)\n",
            "Requirement already satisfied: scikit-image in /usr/local/lib/python3.7/dist-packages (from efficientnet) (0.18.3)\n",
            "Requirement already satisfied: keras-applications<=1.0.8,>=1.0.7 in /usr/local/lib/python3.7/dist-packages (from efficientnet) (1.0.8)\n",
            "Requirement already satisfied: h5py in /usr/local/lib/python3.7/dist-packages (from keras-applications<=1.0.8,>=1.0.7->efficientnet) (3.1.0)\n",
            "Requirement already satisfied: numpy>=1.9.1 in /usr/local/lib/python3.7/dist-packages (from keras-applications<=1.0.8,>=1.0.7->efficientnet) (1.19.5)\n",
            "Requirement already satisfied: cached-property in /usr/local/lib/python3.7/dist-packages (from h5py->keras-applications<=1.0.8,>=1.0.7->efficientnet) (1.5.2)\n",
            "Requirement already satisfied: networkx>=2.0 in /usr/local/lib/python3.7/dist-packages (from scikit-image->efficientnet) (2.6.3)\n",
            "Requirement already satisfied: imageio>=2.3.0 in /usr/local/lib/python3.7/dist-packages (from scikit-image->efficientnet) (2.4.1)\n",
            "Requirement already satisfied: PyWavelets>=1.1.1 in /usr/local/lib/python3.7/dist-packages (from scikit-image->efficientnet) (1.2.0)\n",
            "Requirement already satisfied: pillow!=7.1.0,!=7.1.1,>=4.3.0 in /usr/local/lib/python3.7/dist-packages (from scikit-image->efficientnet) (7.1.2)\n",
            "Requirement already satisfied: tifffile>=2019.7.26 in /usr/local/lib/python3.7/dist-packages (from scikit-image->efficientnet) (2021.11.2)\n",
            "Requirement already satisfied: scipy>=1.0.1 in /usr/local/lib/python3.7/dist-packages (from scikit-image->efficientnet) (1.4.1)\n",
            "Requirement already satisfied: matplotlib!=3.0.0,>=2.0.0 in /usr/local/lib/python3.7/dist-packages (from scikit-image->efficientnet) (3.2.2)\n",
            "Requirement already satisfied: python-dateutil>=2.1 in /usr/local/lib/python3.7/dist-packages (from matplotlib!=3.0.0,>=2.0.0->scikit-image->efficientnet) (2.8.2)\n",
            "Requirement already satisfied: cycler>=0.10 in /usr/local/lib/python3.7/dist-packages (from matplotlib!=3.0.0,>=2.0.0->scikit-image->efficientnet) (0.11.0)\n",
            "Requirement already satisfied: pyparsing!=2.0.4,!=2.1.2,!=2.1.6,>=2.0.1 in /usr/local/lib/python3.7/dist-packages (from matplotlib!=3.0.0,>=2.0.0->scikit-image->efficientnet) (3.0.6)\n",
            "Requirement already satisfied: kiwisolver>=1.0.1 in /usr/local/lib/python3.7/dist-packages (from matplotlib!=3.0.0,>=2.0.0->scikit-image->efficientnet) (1.3.2)\n",
            "Requirement already satisfied: six>=1.5 in /usr/local/lib/python3.7/dist-packages (from python-dateutil>=2.1->matplotlib!=3.0.0,>=2.0.0->scikit-image->efficientnet) (1.15.0)\n"
          ]
        }
      ]
    },
    {
      "cell_type": "code",
      "source": [
        "def modelgen2(N_GENRES=N_GENRES, diagnostic=False):\n",
        "\n",
        "  model = efn.EfficientNetB7(weights='noisy-student', include_top=False)\n",
        "  model.trainable = False\n",
        "  \n",
        "  inputs = tf.keras.layers.Input(shape=EFF_SHAPE)\n",
        "  x = model(inputs)#, training=False)\n",
        "  x = tf.keras.layers.GlobalAveragePooling2D()(x)\n",
        "  outputs = tf.keras.layers.Dense(N_GENRES, activation='softmax')(x)\n",
        "\n",
        "  mlc = tf.keras.Model(inputs=inputs, outputs=outputs) \n",
        "  \n",
        "  if diagnostic==True:\n",
        "    return mlc, model\n",
        "  else:\n",
        "    return mlc\n",
        "\n",
        "\n",
        "with strategy.scope(): # creating the model in the TPUStrategy scope means we will train the model on the TPU\n",
        "  mlc = modelgen2()\n",
        "  mlc.compile(optimizer='Adam',\n",
        "              loss=tf.keras.losses.CategoricalCrossentropy(from_logits=False, label_smoothing=.1), \n",
        "              metrics='accuracy')\n",
        "\n",
        "\n",
        "mlc.summary()"
      ],
      "metadata": {
        "colab": {
          "base_uri": "https://localhost:8080/"
        },
        "id": "bpZ-t81DSk32",
        "outputId": "c7dd4de4-9cc8-4fc9-8353-0257e5ca243c"
      },
      "execution_count": null,
      "outputs": [
        {
          "output_type": "stream",
          "name": "stdout",
          "text": [
            "Downloading data from https://github.com/qubvel/efficientnet/releases/download/v0.0.1/efficientnet-b7_noisy-student_notop.h5\n",
            "258072576/258068648 [==============================] - 2s 0us/step\n",
            "258080768/258068648 [==============================] - 2s 0us/step\n",
            "Model: \"model\"\n",
            "_________________________________________________________________\n",
            " Layer (type)                Output Shape              Param #   \n",
            "=================================================================\n",
            " input_3 (InputLayer)        [(None, 600, 600, 3)]     0         \n",
            "                                                                 \n",
            " efficientnet-b7 (Functional  (None, None, None, 2560)  64097680 \n",
            " )                                                               \n",
            "                                                                 \n",
            " global_average_pooling2d (G  (None, 2560)             0         \n",
            " lobalAveragePooling2D)                                          \n",
            "                                                                 \n",
            " dense_1 (Dense)             (None, 21)                53781     \n",
            "                                                                 \n",
            "=================================================================\n",
            "Total params: 64,151,461\n",
            "Trainable params: 53,781\n",
            "Non-trainable params: 64,097,680\n",
            "_________________________________________________________________\n"
          ]
        }
      ]
    },
    {
      "cell_type": "code",
      "source": [
        "tf.random.set_seed(42)\n",
        "history = mlc.fit(t, steps_per_epoch=TRAIN_STEPS, validation_data=te, validation_steps=int(.25*TEST_STEPS), epochs=10, callbacks=checkpoint_callback,\n",
        "                  #initial_epoch=2\n",
        "                  )"
      ],
      "metadata": {
        "colab": {
          "base_uri": "https://localhost:8080/"
        },
        "id": "u3vOHOtbN5ah",
        "outputId": "3ca731cb-f7c2-469f-ca51-443d85fc0cb3"
      },
      "execution_count": null,
      "outputs": [
        {
          "output_type": "stream",
          "name": "stdout",
          "text": [
            "Epoch 1/10\n",
            "102/102 [==============================] - ETA: 0s - loss: 247897.5938 - accuracy: 0.0706\n",
            "Epoch 00001: saving model to /content/mdl0/\n",
            "102/102 [==============================] - 147s 702ms/step - loss: 247897.5938 - accuracy: 0.0706 - val_loss: 271.4896 - val_accuracy: 0.0495\n",
            "Epoch 2/10\n",
            "102/102 [==============================] - ETA: 0s - loss: 217954.2812 - accuracy: 0.0757\n",
            "Epoch 00002: saving model to /content/mdl0/\n",
            "102/102 [==============================] - 46s 448ms/step - loss: 217954.2812 - accuracy: 0.0757 - val_loss: 190.2812 - val_accuracy: 0.0547\n",
            "Epoch 3/10\n",
            "102/102 [==============================] - ETA: 0s - loss: 379301.7812 - accuracy: 0.0723\n",
            "Epoch 00003: saving model to /content/mdl0/\n",
            "102/102 [==============================] - 48s 475ms/step - loss: 379301.7812 - accuracy: 0.0723 - val_loss: 160.6198 - val_accuracy: 0.0625\n",
            "Epoch 4/10\n",
            "102/102 [==============================] - ETA: 0s - loss: 276690.9375 - accuracy: 0.0846\n",
            "Epoch 00004: saving model to /content/mdl0/\n",
            "102/102 [==============================] - 47s 465ms/step - loss: 276690.9375 - accuracy: 0.0846 - val_loss: 190.2031 - val_accuracy: 0.0755\n",
            "Epoch 5/10\n",
            "102/102 [==============================] - ETA: 0s - loss: 185170.6406 - accuracy: 0.0786\n",
            "Epoch 00005: saving model to /content/mdl0/\n",
            "102/102 [==============================] - 50s 492ms/step - loss: 185170.6406 - accuracy: 0.0786 - val_loss: 177.1094 - val_accuracy: 0.1016\n",
            "Epoch 6/10\n",
            "102/102 [==============================] - ETA: 0s - loss: 311719.6562 - accuracy: 0.0887\n",
            "Epoch 00006: saving model to /content/mdl0/\n",
            "102/102 [==============================] - 46s 456ms/step - loss: 311719.6562 - accuracy: 0.0887 - val_loss: 260.4792 - val_accuracy: 0.0677\n",
            "Epoch 7/10\n",
            "102/102 [==============================] - ETA: 0s - loss: 251818.9062 - accuracy: 0.0677\n",
            "Epoch 00007: saving model to /content/mdl0/\n",
            "102/102 [==============================] - 46s 449ms/step - loss: 251818.9062 - accuracy: 0.0677 - val_loss: 195.4609 - val_accuracy: 0.0625\n",
            "Epoch 8/10\n",
            "102/102 [==============================] - ETA: 0s - loss: 178570.5938 - accuracy: 0.0778\n",
            "Epoch 00008: saving model to /content/mdl0/\n",
            "102/102 [==============================] - 46s 449ms/step - loss: 178570.5938 - accuracy: 0.0778 - val_loss: 196.9427 - val_accuracy: 0.0964\n",
            "Epoch 9/10\n",
            "102/102 [==============================] - ETA: 0s - loss: 179130.6875 - accuracy: 0.0809\n",
            "Epoch 00009: saving model to /content/mdl0/\n",
            "102/102 [==============================] - 46s 447ms/step - loss: 179130.6875 - accuracy: 0.0809 - val_loss: 190.8958 - val_accuracy: 0.0807\n",
            "Epoch 10/10\n",
            "102/102 [==============================] - ETA: 0s - loss: 269424.0000 - accuracy: 0.0869\n",
            "Epoch 00010: saving model to /content/mdl0/\n",
            "102/102 [==============================] - 45s 445ms/step - loss: 269424.0000 - accuracy: 0.0869 - val_loss: 218.9219 - val_accuracy: 0.0469\n"
          ]
        }
      ]
    },
    {
      "cell_type": "code",
      "source": [
        "def modelgen3(N_GENRES=N_GENRES, diagnostic=False):\n",
        "\n",
        "  model = efn.EfficientNetB7(weights='noisy-student', include_top=False)\n",
        "  model.trainable = False\n",
        "  \n",
        "  inputs = tf.keras.layers.Input(shape=EFF_SHAPE)\n",
        "  x = tf.keras.layers.Rescaling(1/255.)(inputs)\n",
        "  x = model(x)#, training=False)\n",
        "  x = tf.keras.layers.GlobalAveragePooling2D()(x)\n",
        "  outputs = tf.keras.layers.Dense(N_GENRES, activation='softmax')(x)\n",
        "\n",
        "  mlc = tf.keras.Model(inputs=inputs, outputs=outputs) \n",
        "  \n",
        "  if diagnostic==True:\n",
        "    return mlc, model\n",
        "  else:\n",
        "    return mlc\n",
        "\n",
        "\n",
        "with strategy.scope(): # creating the model in the TPUStrategy scope means we will train the model on the TPU\n",
        "  mlc = modelgen3()\n",
        "  mlc.compile(optimizer='Adam',\n",
        "              loss=tf.keras.losses.CategoricalCrossentropy(from_logits=False, label_smoothing=.1), \n",
        "              metrics='accuracy')\n",
        "\n",
        "\n",
        "mlc.summary()"
      ],
      "metadata": {
        "colab": {
          "base_uri": "https://localhost:8080/"
        },
        "id": "PF6Rdr9KXift",
        "outputId": "e0c4aad2-5837-48d8-8b9d-ea0b56eb22b5"
      },
      "execution_count": null,
      "outputs": [
        {
          "output_type": "stream",
          "name": "stdout",
          "text": [
            "Model: \"model_2\"\n",
            "_________________________________________________________________\n",
            " Layer (type)                Output Shape              Param #   \n",
            "=================================================================\n",
            " input_10 (InputLayer)       [(None, 600, 600, 3)]     0         \n",
            "                                                                 \n",
            " rescaling_6 (Rescaling)     (None, 600, 600, 3)       0         \n",
            "                                                                 \n",
            " efficientnet-b7 (Functional  (None, None, None, 2560)  64097680 \n",
            " )                                                               \n",
            "                                                                 \n",
            " global_average_pooling2d_2   (None, 2560)             0         \n",
            " (GlobalAveragePooling2D)                                        \n",
            "                                                                 \n",
            " dense_10 (Dense)            (None, 21)                53781     \n",
            "                                                                 \n",
            "=================================================================\n",
            "Total params: 64,151,461\n",
            "Trainable params: 53,781\n",
            "Non-trainable params: 64,097,680\n",
            "_________________________________________________________________\n"
          ]
        }
      ]
    },
    {
      "cell_type": "code",
      "source": [
        "tf.random.set_seed(42)\n",
        "history2 = mlc.fit(t, steps_per_epoch=TRAIN_STEPS, validation_data=te, validation_steps=int(.25*TEST_STEPS), epochs=10, callbacks=checkpoint_callback,\n",
        "                  #initial_epoch=2\n",
        "                  )"
      ],
      "metadata": {
        "id": "YEXSGLAPPJHN",
        "colab": {
          "base_uri": "https://localhost:8080/"
        },
        "outputId": "a4c39f43-feca-4078-e147-38ef2a62d79e"
      },
      "execution_count": null,
      "outputs": [
        {
          "output_type": "stream",
          "name": "stdout",
          "text": [
            "Epoch 1/10\n",
            "102/102 [==============================] - ETA: 0s - loss: 2.2585 - accuracy: 0.3819\n",
            "Epoch 00001: saving model to /content/mdl0/\n",
            "102/102 [==============================] - 127s 694ms/step - loss: 2.2585 - accuracy: 0.3819 - val_loss: 1.8895 - val_accuracy: 0.5104\n",
            "Epoch 2/10\n",
            "102/102 [==============================] - ETA: 0s - loss: 1.8867 - accuracy: 0.5250\n",
            "Epoch 00002: saving model to /content/mdl0/\n",
            "102/102 [==============================] - 46s 449ms/step - loss: 1.8867 - accuracy: 0.5250 - val_loss: 1.7391 - val_accuracy: 0.5833\n",
            "Epoch 3/10\n",
            "102/102 [==============================] - ETA: 0s - loss: 1.7677 - accuracy: 0.5665\n",
            "Epoch 00003: saving model to /content/mdl0/\n",
            "102/102 [==============================] - 46s 448ms/step - loss: 1.7677 - accuracy: 0.5665 - val_loss: 1.6683 - val_accuracy: 0.6068\n",
            "Epoch 4/10\n",
            "102/102 [==============================] - ETA: 0s - loss: 1.6924 - accuracy: 0.5980\n",
            "Epoch 00004: saving model to /content/mdl0/\n",
            "102/102 [==============================] - 45s 447ms/step - loss: 1.6924 - accuracy: 0.5980 - val_loss: 1.6532 - val_accuracy: 0.6120\n",
            "Epoch 5/10\n",
            "102/102 [==============================] - ETA: 0s - loss: 1.6495 - accuracy: 0.6104\n",
            "Epoch 00005: saving model to /content/mdl0/\n",
            "102/102 [==============================] - 45s 446ms/step - loss: 1.6495 - accuracy: 0.6104 - val_loss: 1.5874 - val_accuracy: 0.6250\n",
            "Epoch 6/10\n",
            "102/102 [==============================] - ETA: 0s - loss: 1.6224 - accuracy: 0.6206\n",
            "Epoch 00006: saving model to /content/mdl0/\n",
            "102/102 [==============================] - 45s 444ms/step - loss: 1.6224 - accuracy: 0.6206 - val_loss: 1.5643 - val_accuracy: 0.6510\n",
            "Epoch 7/10\n",
            "102/102 [==============================] - ETA: 0s - loss: 1.5834 - accuracy: 0.6422\n",
            "Epoch 00007: saving model to /content/mdl0/\n",
            "102/102 [==============================] - 46s 448ms/step - loss: 1.5834 - accuracy: 0.6422 - val_loss: 1.5458 - val_accuracy: 0.6510\n",
            "Epoch 8/10\n",
            "102/102 [==============================] - ETA: 0s - loss: 1.5622 - accuracy: 0.6468\n",
            "Epoch 00008: saving model to /content/mdl0/\n",
            "102/102 [==============================] - 46s 454ms/step - loss: 1.5622 - accuracy: 0.6468 - val_loss: 1.5207 - val_accuracy: 0.6615\n",
            "Epoch 9/10\n",
            "102/102 [==============================] - ETA: 0s - loss: 1.5488 - accuracy: 0.6570\n",
            "Epoch 00009: saving model to /content/mdl0/\n",
            "102/102 [==============================] - 45s 441ms/step - loss: 1.5488 - accuracy: 0.6570 - val_loss: 1.5026 - val_accuracy: 0.6641\n",
            "Epoch 10/10\n",
            "102/102 [==============================] - ETA: 0s - loss: 1.5376 - accuracy: 0.6610\n",
            "Epoch 00010: saving model to /content/mdl0/\n",
            "102/102 [==============================] - 47s 458ms/step - loss: 1.5376 - accuracy: 0.6610 - val_loss: 1.4769 - val_accuracy: 0.6823\n"
          ]
        }
      ]
    },
    {
      "cell_type": "code",
      "source": [
        "def modelgen3(N_GENRES=N_GENRES, diagnostic=False):\n",
        "\n",
        "  model = efn.EfficientNetB7(weights='noisy-student', include_top=False)\n",
        "  model.trainable = False\n",
        "  \n",
        "  inputs = tf.keras.layers.Input(shape=EFF_SHAPE)\n",
        "  x = tf.keras.layers.Rescaling(1/255.)(inputs)\n",
        "  x = model(x)#, training=False)\n",
        "  x = tf.keras.layers.GlobalAveragePooling2D()(x)\n",
        "  x = tf.keras.layers.Dense(200, activation='relu')(x)\n",
        "  x = tf.keras.layers.Dense(100, activation='relu')(x)\n",
        "  outputs = tf.keras.layers.Dense(N_GENRES, activation='softmax')(x)\n",
        "\n",
        "  mlc = tf.keras.Model(inputs=inputs, outputs=outputs) \n",
        "  \n",
        "  if diagnostic==True:\n",
        "    return mlc, model\n",
        "  else:\n",
        "    return mlc\n",
        "\n",
        "\n",
        "with strategy.scope(): # creating the model in the TPUStrategy scope means we will train the model on the TPU\n",
        "  mlc = modelgen3()\n",
        "  mlc.compile(optimizer='Adam',\n",
        "              loss=tf.keras.losses.CategoricalCrossentropy(from_logits=False, label_smoothing=.1), \n",
        "              metrics='accuracy')\n",
        "\n",
        "\n",
        "mlc.summary()"
      ],
      "metadata": {
        "colab": {
          "base_uri": "https://localhost:8080/"
        },
        "id": "F5wSKehuYtvw",
        "outputId": "693eec3c-8d1f-4b22-9ea1-6b90a9b703f6"
      },
      "execution_count": null,
      "outputs": [
        {
          "output_type": "stream",
          "name": "stdout",
          "text": [
            "Model: \"model\"\n",
            "_________________________________________________________________\n",
            " Layer (type)                Output Shape              Param #   \n",
            "=================================================================\n",
            " input_3 (InputLayer)        [(None, 600, 600, 3)]     0         \n",
            "                                                                 \n",
            " rescaling_1 (Rescaling)     (None, 600, 600, 3)       0         \n",
            "                                                                 \n",
            " efficientnet-b7 (Functional  (None, None, None, 2560)  64097680 \n",
            " )                                                               \n",
            "                                                                 \n",
            " global_average_pooling2d (G  (None, 2560)             0         \n",
            " lobalAveragePooling2D)                                          \n",
            "                                                                 \n",
            " dense_1 (Dense)             (None, 200)               512200    \n",
            "                                                                 \n",
            " dense_2 (Dense)             (None, 100)               20100     \n",
            "                                                                 \n",
            " dense_3 (Dense)             (None, 21)                2121      \n",
            "                                                                 \n",
            "=================================================================\n",
            "Total params: 64,632,101\n",
            "Trainable params: 534,421\n",
            "Non-trainable params: 64,097,680\n",
            "_________________________________________________________________\n"
          ]
        }
      ]
    },
    {
      "cell_type": "code",
      "source": [
        "tf.random.set_seed(42)\n",
        "history3 = mlc.fit(t, steps_per_epoch=TRAIN_STEPS, validation_data=te, validation_steps=int(.25*TEST_STEPS), epochs=10, callbacks=checkpoint_callback,\n",
        "                  #initial_epoch=2\n",
        "                  )"
      ],
      "metadata": {
        "colab": {
          "base_uri": "https://localhost:8080/"
        },
        "id": "CiMI56fvbj5-",
        "outputId": "d55e1adb-8ae5-4b51-a939-37d05ba15293"
      },
      "execution_count": null,
      "outputs": [
        {
          "output_type": "stream",
          "name": "stdout",
          "text": [
            "Epoch 1/10\n",
            "102/102 [==============================] - ETA: 0s - loss: 2.1691 - accuracy: 0.4119\n",
            "Epoch 00001: saving model to /content/mdl0/\n",
            "102/102 [==============================] - 129s 693ms/step - loss: 2.1691 - accuracy: 0.4119 - val_loss: 1.7585 - val_accuracy: 0.5443\n",
            "Epoch 2/10\n",
            "102/102 [==============================] - ETA: 0s - loss: 1.7580 - accuracy: 0.5544\n",
            "Epoch 00002: saving model to /content/mdl0/\n",
            "102/102 [==============================] - 46s 450ms/step - loss: 1.7580 - accuracy: 0.5544 - val_loss: 1.6019 - val_accuracy: 0.6328\n",
            "Epoch 3/10\n",
            "102/102 [==============================] - ETA: 0s - loss: 1.6460 - accuracy: 0.6065\n",
            "Epoch 00003: saving model to /content/mdl0/\n",
            "102/102 [==============================] - 46s 447ms/step - loss: 1.6460 - accuracy: 0.6065 - val_loss: 1.5178 - val_accuracy: 0.6562\n",
            "Epoch 4/10\n",
            "102/102 [==============================] - ETA: 0s - loss: 1.5622 - accuracy: 0.6389\n",
            "Epoch 00004: saving model to /content/mdl0/\n",
            "102/102 [==============================] - 47s 462ms/step - loss: 1.5622 - accuracy: 0.6389 - val_loss: 1.4350 - val_accuracy: 0.6979\n",
            "Epoch 5/10\n",
            "102/102 [==============================] - ETA: 0s - loss: 1.4906 - accuracy: 0.6690\n",
            "Epoch 00005: saving model to /content/mdl0/\n",
            "102/102 [==============================] - 45s 446ms/step - loss: 1.4906 - accuracy: 0.6690 - val_loss: 1.4441 - val_accuracy: 0.6849\n",
            "Epoch 6/10\n",
            "102/102 [==============================] - ETA: 0s - loss: 1.4403 - accuracy: 0.6829\n",
            "Epoch 00006: saving model to /content/mdl0/\n",
            "102/102 [==============================] - 45s 446ms/step - loss: 1.4403 - accuracy: 0.6829 - val_loss: 1.3993 - val_accuracy: 0.7109\n",
            "Epoch 7/10\n",
            "102/102 [==============================] - ETA: 0s - loss: 1.4032 - accuracy: 0.6999\n",
            "Epoch 00007: saving model to /content/mdl0/\n",
            "102/102 [==============================] - 46s 455ms/step - loss: 1.4032 - accuracy: 0.6999 - val_loss: 1.3757 - val_accuracy: 0.7188\n",
            "Epoch 8/10\n",
            "102/102 [==============================] - ETA: 0s - loss: 1.3532 - accuracy: 0.7200\n",
            "Epoch 00008: saving model to /content/mdl0/\n",
            "102/102 [==============================] - 51s 504ms/step - loss: 1.3532 - accuracy: 0.7200 - val_loss: 1.3148 - val_accuracy: 0.7448\n",
            "Epoch 9/10\n",
            "102/102 [==============================] - ETA: 0s - loss: 1.3482 - accuracy: 0.7227\n",
            "Epoch 00009: saving model to /content/mdl0/\n",
            "102/102 [==============================] - 48s 473ms/step - loss: 1.3482 - accuracy: 0.7227 - val_loss: 1.3493 - val_accuracy: 0.7370\n",
            "Epoch 10/10\n",
            "102/102 [==============================] - ETA: 0s - loss: 1.3132 - accuracy: 0.7344\n",
            "Epoch 00010: saving model to /content/mdl0/\n",
            "102/102 [==============================] - 45s 446ms/step - loss: 1.3132 - accuracy: 0.7344 - val_loss: 1.3299 - val_accuracy: 0.7448\n"
          ]
        }
      ]
    },
    {
      "cell_type": "code",
      "source": [
        "\n",
        "with strategy.scope(): # creating the model in the TPUStrategy scope means we will train the model on the TPU\n",
        "  mlc = modelgen3()\n",
        "  mlc.compile(optimizer=tf.keras.optimizers.Adam(learning_rate=.0001),\n",
        "              loss=tf.keras.losses.CategoricalCrossentropy(from_logits=False, label_smoothing=.1), \n",
        "              metrics='accuracy')\n",
        "\n",
        "\n",
        "mlc.summary()"
      ],
      "metadata": {
        "colab": {
          "base_uri": "https://localhost:8080/"
        },
        "id": "VTcpqhMsb2Tj",
        "outputId": "74fc3b50-11d9-4997-f314-0f5208f6314e"
      },
      "execution_count": null,
      "outputs": [
        {
          "output_type": "stream",
          "name": "stdout",
          "text": [
            "Model: \"model_3\"\n",
            "_________________________________________________________________\n",
            " Layer (type)                Output Shape              Param #   \n",
            "=================================================================\n",
            " input_9 (InputLayer)        [(None, 600, 600, 3)]     0         \n",
            "                                                                 \n",
            " rescaling_2 (Rescaling)     (None, 600, 600, 3)       0         \n",
            "                                                                 \n",
            " efficientnet-b7 (Functional  (None, None, None, 2560)  64097680 \n",
            " )                                                               \n",
            "                                                                 \n",
            " global_average_pooling2d_3   (None, 2560)             0         \n",
            " (GlobalAveragePooling2D)                                        \n",
            "                                                                 \n",
            " dense_6 (Dense)             (None, 200)               512200    \n",
            "                                                                 \n",
            " dense_7 (Dense)             (None, 100)               20100     \n",
            "                                                                 \n",
            " dense_8 (Dense)             (None, 21)                2121      \n",
            "                                                                 \n",
            "=================================================================\n",
            "Total params: 64,632,101\n",
            "Trainable params: 534,421\n",
            "Non-trainable params: 64,097,680\n",
            "_________________________________________________________________\n"
          ]
        }
      ]
    },
    {
      "cell_type": "code",
      "source": [
        "tf.random.set_seed(42)\n",
        "history4 = mlc.fit(t, steps_per_epoch=TRAIN_STEPS, validation_data=te, validation_steps=int(.25*TEST_STEPS), epochs=10, callbacks=checkpoint_callback,\n",
        "                  #initial_epoch=2\n",
        "                  )"
      ],
      "metadata": {
        "colab": {
          "base_uri": "https://localhost:8080/"
        },
        "id": "eArEnGxTd9yH",
        "outputId": "c091c95c-16ff-4940-8a22-36927f471e3d"
      },
      "execution_count": null,
      "outputs": [
        {
          "output_type": "stream",
          "name": "stdout",
          "text": [
            "Epoch 1/10\n",
            "102/102 [==============================] - ETA: 0s - loss: 2.6658 - accuracy: 0.2632\n",
            "Epoch 00001: saving model to /content/mdl0/\n",
            "102/102 [==============================] - 127s 692ms/step - loss: 2.6658 - accuracy: 0.2632 - val_loss: 2.3405 - val_accuracy: 0.3594\n",
            "Epoch 2/10\n",
            "102/102 [==============================] - ETA: 0s - loss: 2.2426 - accuracy: 0.3980\n",
            "Epoch 00002: saving model to /content/mdl0/\n",
            "102/102 [==============================] - 49s 486ms/step - loss: 2.2426 - accuracy: 0.3980 - val_loss: 2.0378 - val_accuracy: 0.4557\n",
            "Epoch 3/10\n",
            "102/102 [==============================] - ETA: 0s - loss: 2.0319 - accuracy: 0.4617\n",
            "Epoch 00003: saving model to /content/mdl0/\n",
            "102/102 [==============================] - 48s 469ms/step - loss: 2.0319 - accuracy: 0.4617 - val_loss: 1.9118 - val_accuracy: 0.5365\n",
            "Epoch 4/10\n",
            "102/102 [==============================] - ETA: 0s - loss: 1.9119 - accuracy: 0.5112\n",
            "Epoch 00004: saving model to /content/mdl0/\n",
            "102/102 [==============================] - 49s 479ms/step - loss: 1.9119 - accuracy: 0.5112 - val_loss: 1.8221 - val_accuracy: 0.5573\n",
            "Epoch 5/10\n",
            "102/102 [==============================] - ETA: 0s - loss: 1.8235 - accuracy: 0.5437\n",
            "Epoch 00005: saving model to /content/mdl0/\n",
            "102/102 [==============================] - 45s 444ms/step - loss: 1.8235 - accuracy: 0.5437 - val_loss: 1.7648 - val_accuracy: 0.5755\n",
            "Epoch 6/10\n",
            "102/102 [==============================] - ETA: 0s - loss: 1.7673 - accuracy: 0.5646\n",
            "Epoch 00006: saving model to /content/mdl0/\n",
            "102/102 [==============================] - 46s 450ms/step - loss: 1.7673 - accuracy: 0.5646 - val_loss: 1.6953 - val_accuracy: 0.6016\n",
            "Epoch 7/10\n",
            "102/102 [==============================] - ETA: 0s - loss: 1.7248 - accuracy: 0.5838\n",
            "Epoch 00007: saving model to /content/mdl0/\n",
            "102/102 [==============================] - 47s 462ms/step - loss: 1.7248 - accuracy: 0.5838 - val_loss: 1.6445 - val_accuracy: 0.6172\n",
            "Epoch 8/10\n",
            "102/102 [==============================] - ETA: 0s - loss: 1.6916 - accuracy: 0.5942\n",
            "Epoch 00008: saving model to /content/mdl0/\n",
            "102/102 [==============================] - 46s 449ms/step - loss: 1.6916 - accuracy: 0.5942 - val_loss: 1.6099 - val_accuracy: 0.6406\n",
            "Epoch 9/10\n",
            "102/102 [==============================] - ETA: 0s - loss: 1.6490 - accuracy: 0.6137\n",
            "Epoch 00009: saving model to /content/mdl0/\n",
            "102/102 [==============================] - 45s 447ms/step - loss: 1.6490 - accuracy: 0.6137 - val_loss: 1.5785 - val_accuracy: 0.6380\n",
            "Epoch 10/10\n",
            "102/102 [==============================] - ETA: 0s - loss: 1.6195 - accuracy: 0.6229\n",
            "Epoch 00010: saving model to /content/mdl0/\n",
            "102/102 [==============================] - 46s 451ms/step - loss: 1.6195 - accuracy: 0.6229 - val_loss: 1.5711 - val_accuracy: 0.6406\n"
          ]
        }
      ]
    },
    {
      "cell_type": "code",
      "source": [
        "from tensorflow.keras.callbacks import Callback\n",
        "\n",
        "\n",
        "class LRFinder(Callback):\n",
        "    \"\"\"Callback that exponentially adjusts the learning rate after each training batch between start_lr and\n",
        "    end_lr for a maximum number of batches: max_step. The loss and learning rate are recorded at each step allowing\n",
        "    visually finding a good learning rate as per https://sgugger.github.io/how-do-you-find-a-good-learning-rate.html via\n",
        "    the plot method.\n",
        "    \"\"\"\n",
        "\n",
        "    def __init__(self, start_lr: float = 1e-7, end_lr: float = 10, max_steps: int = 100, smoothing=0.9):\n",
        "        super(LRFinder, self).__init__()\n",
        "        self.start_lr, self.end_lr = start_lr, end_lr\n",
        "        self.max_steps = max_steps\n",
        "        self.smoothing = smoothing\n",
        "        self.step, self.best_loss, self.avg_loss, self.lr = 0, 0, 0, 0\n",
        "        self.lrs, self.losses = [], []\n",
        "\n",
        "    def on_train_begin(self, logs=None):\n",
        "        self.step, self.best_loss, self.avg_loss, self.lr = 0, 0, 0, 0\n",
        "        self.lrs, self.losses = [], []\n",
        "\n",
        "    def on_train_batch_begin(self, batch, logs=None):\n",
        "        self.lr = self.exp_annealing(self.step)\n",
        "        tf.keras.backend.set_value(self.model.optimizer.lr, self.lr)\n",
        "\n",
        "    def on_train_batch_end(self, batch, logs=None):\n",
        "        logs = logs or {}\n",
        "        loss = logs.get('loss')\n",
        "        step = self.step\n",
        "        if loss:\n",
        "            self.avg_loss = self.smoothing * self.avg_loss + (1 - self.smoothing) * loss\n",
        "            smooth_loss = self.avg_loss / (1 - self.smoothing ** (self.step + 1))\n",
        "            self.losses.append(smooth_loss)\n",
        "            self.lrs.append(self.lr)\n",
        "\n",
        "            if step == 0 or loss < self.best_loss:\n",
        "                self.best_loss = loss\n",
        "\n",
        "            if smooth_loss > 4 * self.best_loss or tf.math.is_nan(smooth_loss):\n",
        "                self.model.stop_training = True\n",
        "\n",
        "        if step == self.max_steps:\n",
        "            self.model.stop_training = True\n",
        "\n",
        "        self.step += 1\n",
        "\n",
        "    def exp_annealing(self, step):\n",
        "        return self.start_lr * (self.end_lr / self.start_lr) ** (step * 1. / self.max_steps)\n",
        "\n",
        "    def plot(self):\n",
        "        fig, ax = plt.subplots(1, 1)\n",
        "        ax.set_ylabel('Loss')\n",
        "        ax.set_xlabel('Learning Rate (log scale)')\n",
        "        ax.set_xscale('log')\n",
        "        ax.xaxis.set_major_formatter(plt.FormatStrFormatter('%.0e'))\n",
        "        ax.plot(self.lrs, self.losses)"
      ],
      "metadata": {
        "id": "yr86J7LqeOGg"
      },
      "execution_count": null,
      "outputs": []
    },
    {
      "cell_type": "code",
      "source": [
        "lr_finder = LRFinder()"
      ],
      "metadata": {
        "id": "I4Vwwa3be2O-"
      },
      "execution_count": null,
      "outputs": []
    },
    {
      "cell_type": "code",
      "source": [
        "mlc.compile(optimizer=tf.keras.optimizers.Adam(),\n",
        "              loss=tf.keras.losses.CategoricalCrossentropy(from_logits=False), \n",
        "              metrics='accuracy')\n",
        "tf.random.set_seed(42)\n",
        "_ = mlc.fit(t, steps_per_epoch=TRAIN_STEPS, epochs=30, callbacks=lr_finder, verbose=False,\n",
        "                  #initial_epoch=2\n",
        "                  )"
      ],
      "metadata": {
        "colab": {
          "base_uri": "https://localhost:8080/"
        },
        "id": "woIE6Yr_e71Z",
        "outputId": "48b37ce7-be66-402e-9aca-d6ce224499e5"
      },
      "execution_count": null,
      "outputs": [
        {
          "output_type": "stream",
          "name": "stdout",
          "text": [
            "WARNING:tensorflow:Callback method `on_train_batch_begin` is slow compared to the batch time (batch time: 0.0137s vs `on_train_batch_begin` time: 0.0168s). Check your callbacks.\n"
          ]
        },
        {
          "output_type": "stream",
          "name": "stderr",
          "text": [
            "WARNING:tensorflow:Callback method `on_train_batch_begin` is slow compared to the batch time (batch time: 0.0137s vs `on_train_batch_begin` time: 0.0168s). Check your callbacks.\n"
          ]
        },
        {
          "output_type": "stream",
          "name": "stdout",
          "text": [
            "WARNING:tensorflow:Callback method `on_train_batch_end` is slow compared to the batch time (batch time: 0.0137s vs `on_train_batch_end` time: 4.8065s). Check your callbacks.\n"
          ]
        },
        {
          "output_type": "stream",
          "name": "stderr",
          "text": [
            "WARNING:tensorflow:Callback method `on_train_batch_end` is slow compared to the batch time (batch time: 0.0137s vs `on_train_batch_end` time: 4.8065s). Check your callbacks.\n"
          ]
        }
      ]
    },
    {
      "cell_type": "code",
      "source": [
        "lr_finder.plot()"
      ],
      "metadata": {
        "colab": {
          "base_uri": "https://localhost:8080/",
          "height": 279
        },
        "id": "_ZlcnNyqgbZY",
        "outputId": "6637ce38-dda3-4afd-c04c-071a0f8241dc"
      },
      "execution_count": null,
      "outputs": [
        {
          "output_type": "display_data",
          "data": {
            "image/png": "[encoded data removed]",
            "text/plain": [
              "<Figure size 432x288 with 1 Axes>"
            ]
          },
          "metadata": {
            "needs_background": "light"
          }
        }
      ]
    },
    {
      "cell_type": "code",
      "source": [
        "1e-02"
      ],
      "metadata": {
        "colab": {
          "base_uri": "https://localhost:8080/"
        },
        "id": "51om6lidjT8V",
        "outputId": "28d76677-733b-40b5-cd4f-cc4d153020c1"
      },
      "execution_count": null,
      "outputs": [
        {
          "output_type": "execute_result",
          "data": {
            "text/plain": [
              "0.01"
            ]
          },
          "metadata": {},
          "execution_count": 29
        }
      ]
    },
    {
      "cell_type": "code",
      "source": [
        "\n",
        "with strategy.scope(): # creating the model in the TPUStrategy scope means we will train the model on the TPU\n",
        "  mlc = modelgen3()\n",
        "  mlc.compile(optimizer=tf.keras.optimizers.Adam(learning_rate=.01),\n",
        "              loss=tf.keras.losses.CategoricalCrossentropy(from_logits=False, label_smoothing=.1), \n",
        "              metrics='accuracy')\n",
        "\n",
        "\n",
        "mlc.summary()"
      ],
      "metadata": {
        "colab": {
          "base_uri": "https://localhost:8080/"
        },
        "id": "rvH8rLt8jXRc",
        "outputId": "cfdcd132-c238-4a7e-ba22-29222aa2e84c"
      },
      "execution_count": null,
      "outputs": [
        {
          "output_type": "stream",
          "name": "stdout",
          "text": [
            "Model: \"model_1\"\n",
            "_________________________________________________________________\n",
            " Layer (type)                Output Shape              Param #   \n",
            "=================================================================\n",
            " input_5 (InputLayer)        [(None, 600, 600, 3)]     0         \n",
            "                                                                 \n",
            " rescaling_2 (Rescaling)     (None, 600, 600, 3)       0         \n",
            "                                                                 \n",
            " efficientnet-b7 (Functional  (None, None, None, 2560)  64097680 \n",
            " )                                                               \n",
            "                                                                 \n",
            " global_average_pooling2d_1   (None, 2560)             0         \n",
            " (GlobalAveragePooling2D)                                        \n",
            "                                                                 \n",
            " dense_4 (Dense)             (None, 200)               512200    \n",
            "                                                                 \n",
            " dense_5 (Dense)             (None, 100)               20100     \n",
            "                                                                 \n",
            " dense_6 (Dense)             (None, 21)                2121      \n",
            "                                                                 \n",
            "=================================================================\n",
            "Total params: 64,632,101\n",
            "Trainable params: 534,421\n",
            "Non-trainable params: 64,097,680\n",
            "_________________________________________________________________\n"
          ]
        }
      ]
    },
    {
      "cell_type": "code",
      "source": [
        "tf.random.set_seed(42)\n",
        "\n",
        "historyFin = mlc.fit(t, steps_per_epoch=TRAIN_STEPS, validation_data=te, validation_steps=int(.25*TEST_STEPS), epochs=20, callbacks=checkpoint_callback,\n",
        "                  #initial_epoch=2\n",
        "                  )"
      ],
      "metadata": {
        "colab": {
          "base_uri": "https://localhost:8080/"
        },
        "id": "mGmAjCxEgc-L",
        "outputId": "c965edfc-eec4-4bc3-8678-5c6b78fe21cc"
      },
      "execution_count": null,
      "outputs": [
        {
          "output_type": "stream",
          "name": "stdout",
          "text": [
            "Epoch 1/20\n",
            "102/102 [==============================] - ETA: 0s - loss: 2.2860 - accuracy: 0.3775\n",
            "Epoch 00001: saving model to /content/mdl0/\n",
            "102/102 [==============================] - 129s 705ms/step - loss: 2.2860 - accuracy: 0.3775 - val_loss: 1.8039 - val_accuracy: 0.5234\n",
            "Epoch 2/20\n",
            "102/102 [==============================] - ETA: 0s - loss: 1.9028 - accuracy: 0.5139\n",
            "Epoch 00002: saving model to /content/mdl0/\n",
            "102/102 [==============================] - 46s 451ms/step - loss: 1.9028 - accuracy: 0.5139 - val_loss: 1.6744 - val_accuracy: 0.5859\n",
            "Epoch 3/20\n",
            "102/102 [==============================] - ETA: 0s - loss: 1.7799 - accuracy: 0.5542\n",
            "Epoch 00003: saving model to /content/mdl0/\n",
            "102/102 [==============================] - 46s 449ms/step - loss: 1.7799 - accuracy: 0.5542 - val_loss: 1.6209 - val_accuracy: 0.5990\n",
            "Epoch 4/20\n",
            "102/102 [==============================] - ETA: 0s - loss: 1.7116 - accuracy: 0.5846\n",
            "Epoch 00004: saving model to /content/mdl0/\n",
            "102/102 [==============================] - 46s 449ms/step - loss: 1.7116 - accuracy: 0.5846 - val_loss: 1.5413 - val_accuracy: 0.6536\n",
            "Epoch 5/20\n",
            "102/102 [==============================] - ETA: 0s - loss: 1.6598 - accuracy: 0.5964\n",
            "Epoch 00005: saving model to /content/mdl0/\n",
            "102/102 [==============================] - 46s 449ms/step - loss: 1.6598 - accuracy: 0.5964 - val_loss: 1.5843 - val_accuracy: 0.6458\n",
            "Epoch 6/20\n",
            "102/102 [==============================] - ETA: 0s - loss: 1.6383 - accuracy: 0.6063\n",
            "Epoch 00006: saving model to /content/mdl0/\n",
            "102/102 [==============================] - 45s 446ms/step - loss: 1.6383 - accuracy: 0.6063 - val_loss: 1.5691 - val_accuracy: 0.6536\n",
            "Epoch 7/20\n",
            "102/102 [==============================] - ETA: 0s - loss: 1.5960 - accuracy: 0.6285\n",
            "Epoch 00007: saving model to /content/mdl0/\n",
            "102/102 [==============================] - 50s 494ms/step - loss: 1.5960 - accuracy: 0.6285 - val_loss: 1.5196 - val_accuracy: 0.6510\n",
            "Epoch 8/20\n",
            "102/102 [==============================] - ETA: 0s - loss: 1.5914 - accuracy: 0.6362\n",
            "Epoch 00008: saving model to /content/mdl0/\n",
            "102/102 [==============================] - 47s 460ms/step - loss: 1.5914 - accuracy: 0.6362 - val_loss: 1.4886 - val_accuracy: 0.6719\n",
            "Epoch 9/20\n",
            "102/102 [==============================] - ETA: 0s - loss: 1.5448 - accuracy: 0.6497\n",
            "Epoch 00009: saving model to /content/mdl0/\n",
            "102/102 [==============================] - 46s 451ms/step - loss: 1.5448 - accuracy: 0.6497 - val_loss: 1.4568 - val_accuracy: 0.6901\n",
            "Epoch 10/20\n",
            "102/102 [==============================] - ETA: 0s - loss: 1.5302 - accuracy: 0.6576\n",
            "Epoch 00010: saving model to /content/mdl0/\n",
            "102/102 [==============================] - 46s 448ms/step - loss: 1.5302 - accuracy: 0.6576 - val_loss: 1.4574 - val_accuracy: 0.6797\n",
            "Epoch 11/20\n",
            "102/102 [==============================] - ETA: 0s - loss: 1.5143 - accuracy: 0.6630\n",
            "Epoch 00011: saving model to /content/mdl0/\n",
            "102/102 [==============================] - 46s 448ms/step - loss: 1.5143 - accuracy: 0.6630 - val_loss: 1.4822 - val_accuracy: 0.6953\n",
            "Epoch 12/20\n",
            "102/102 [==============================] - ETA: 0s - loss: 1.4818 - accuracy: 0.6757\n",
            "Epoch 00012: saving model to /content/mdl0/\n",
            "102/102 [==============================] - 46s 450ms/step - loss: 1.4818 - accuracy: 0.6757 - val_loss: 1.4396 - val_accuracy: 0.6979\n",
            "Epoch 13/20\n",
            "102/102 [==============================] - ETA: 0s - loss: 1.4720 - accuracy: 0.6775\n",
            "Epoch 00013: saving model to /content/mdl0/\n",
            "102/102 [==============================] - 46s 448ms/step - loss: 1.4720 - accuracy: 0.6775 - val_loss: 1.4547 - val_accuracy: 0.7005\n",
            "Epoch 14/20\n",
            "102/102 [==============================] - ETA: 0s - loss: 1.4794 - accuracy: 0.6789\n",
            "Epoch 00014: saving model to /content/mdl0/\n",
            "102/102 [==============================] - 45s 447ms/step - loss: 1.4794 - accuracy: 0.6789 - val_loss: 1.4230 - val_accuracy: 0.7031\n",
            "Epoch 15/20\n",
            "102/102 [==============================] - ETA: 0s - loss: 1.4607 - accuracy: 0.6892\n",
            "Epoch 00015: saving model to /content/mdl0/\n",
            "102/102 [==============================] - 45s 446ms/step - loss: 1.4607 - accuracy: 0.6892 - val_loss: 1.4003 - val_accuracy: 0.7109\n",
            "Epoch 16/20\n",
            "102/102 [==============================] - ETA: 0s - loss: 1.4384 - accuracy: 0.7008\n",
            "Epoch 00016: saving model to /content/mdl0/\n",
            "102/102 [==============================] - 46s 450ms/step - loss: 1.4384 - accuracy: 0.7008 - val_loss: 1.4552 - val_accuracy: 0.7109\n",
            "Epoch 17/20\n",
            "102/102 [==============================] - ETA: 0s - loss: 1.4374 - accuracy: 0.6998\n",
            "Epoch 00017: saving model to /content/mdl0/\n",
            "102/102 [==============================] - 46s 449ms/step - loss: 1.4374 - accuracy: 0.6998 - val_loss: 1.4405 - val_accuracy: 0.6927\n",
            "Epoch 18/20\n",
            "102/102 [==============================] - ETA: 0s - loss: 1.3979 - accuracy: 0.7106\n",
            "Epoch 00018: saving model to /content/mdl0/\n",
            "102/102 [==============================] - 46s 448ms/step - loss: 1.3979 - accuracy: 0.7106 - val_loss: 1.4451 - val_accuracy: 0.7031\n",
            "Epoch 19/20\n",
            "102/102 [==============================] - ETA: 0s - loss: 1.4061 - accuracy: 0.7036\n",
            "Epoch 00019: saving model to /content/mdl0/\n",
            "102/102 [==============================] - 47s 458ms/step - loss: 1.4061 - accuracy: 0.7036 - val_loss: 1.4587 - val_accuracy: 0.7135\n",
            "Epoch 20/20\n",
            "102/102 [==============================] - ETA: 0s - loss: 1.4061 - accuracy: 0.7093\n",
            "Epoch 00020: saving model to /content/mdl0/\n",
            "102/102 [==============================] - 45s 447ms/step - loss: 1.4061 - accuracy: 0.7093 - val_loss: 1.4038 - val_accuracy: 0.7135\n"
          ]
        }
      ]
    },
    {
      "cell_type": "code",
      "source": [
        "# For timing's sake, at 64 batch size\n",
        "\n",
        "\n",
        "tf.random.set_seed(42)\n",
        "\n",
        "historyFin = mlc.fit(t, steps_per_epoch=TRAIN_STEPS, validation_data=te, validation_steps=int(.25*TEST_STEPS), epochs=5#, callbacks=checkpoint_callback,\n",
        "                  #initial_epoch=2\n",
        "                  )"
      ],
      "metadata": {
        "colab": {
          "base_uri": "https://localhost:8080/"
        },
        "id": "LK_uOH5LNJG-",
        "outputId": "c5d56f9d-ae03-496a-fb98-6112ddb1c140"
      },
      "execution_count": null,
      "outputs": [
        {
          "output_type": "stream",
          "name": "stdout",
          "text": [
            "Epoch 1/5\n",
            "13/13 [==============================] - 130s 5s/step - loss: 2.7163 - accuracy: 0.1830 - val_loss: 2.4434 - val_accuracy: 0.3555\n",
            "Epoch 2/5\n",
            "13/13 [==============================] - 29s 2s/step - loss: 2.3250 - accuracy: 0.3619 - val_loss: 2.1855 - val_accuracy: 0.3770\n",
            "Epoch 3/5\n",
            "13/13 [==============================] - 29s 2s/step - loss: 2.1134 - accuracy: 0.4358 - val_loss: 2.0645 - val_accuracy: 0.4512\n",
            "Epoch 4/5\n",
            "13/13 [==============================] - 30s 2s/step - loss: 2.0026 - accuracy: 0.4784 - val_loss: 1.9219 - val_accuracy: 0.5020\n",
            "Epoch 5/5\n",
            "13/13 [==============================] - 30s 2s/step - loss: 1.9319 - accuracy: 0.5105 - val_loss: 1.8574 - val_accuracy: 0.5430\n"
          ]
        }
      ]
    },
    {
      "cell_type": "code",
      "source": [
        ""
      ],
      "metadata": {
        "id": "CO-3zNm6iNbX"
      },
      "execution_count": null,
      "outputs": []
    }
  ]
}